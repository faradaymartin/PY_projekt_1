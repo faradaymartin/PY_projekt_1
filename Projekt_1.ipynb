{
 "cells": [
  {
   "cell_type": "code",
   "execution_count": null,
   "metadata": {},
   "outputs": [],
   "source": [
    "\"\"\"\n",
    "projekt_1.ipynb: první projekt do Engeto Online Python Akademie\n",
    "\n",
    "author: Martin Faraday\n",
    "email: faradaymartin@gmail.com\n",
    "discord: martinfaraday_19641\n",
    "\"\"\"\n"
   ]
  },
  {
   "cell_type": "code",
   "execution_count": 1,
   "metadata": {},
   "outputs": [],
   "source": [
    "TEXTS = ['''\n",
    "Situated about 10 miles west of Kemmerer,\n",
    "Fossil Butte is a ruggedly impressive\n",
    "topographic feature that rises sharply\n",
    "some 1000 feet above Twin Creek Valley\n",
    "to an elevation of more than 7500 feet\n",
    "above sea level. The butte is located just\n",
    "north of US 30N and the Union Pacific Railroad,\n",
    "which traverse the valley. ''',\n",
    "'''At the base of Fossil Butte are the bright\n",
    "red, purple, yellow and gray beds of the Wasatch\n",
    "Formation. Eroded portions of these horizontal\n",
    "beds slope gradually upward from the valley floor\n",
    "and steepen abruptly. Overlying them and extending\n",
    "to the top of the butte are the much steeper\n",
    "buff-to-white beds of the Green River Formation,\n",
    "which are about 300 feet thick.''',\n",
    "'''The monument contains 8198 acres and protects\n",
    "a portion of the largest deposit of freshwater fish\n",
    "fossils in the world. The richest fossil fish deposits\n",
    "are found in multiple limestone layers, which lie some\n",
    "100 feet below the top of the butte. The fossils\n",
    "represent several varieties of perch, as well as\n",
    "other freshwater genera and herring similar to those\n",
    "in modern oceans. Other fish such as paddlefish,\n",
    "garpike and stingray are also present.'''\n",
    "]"
   ]
  },
  {
   "cell_type": "code",
   "execution_count": 13,
   "metadata": {},
   "outputs": [],
   "source": [
    "uzivatel = {\"bob\": \"123\", \"ann\": \"pass123\", \"mike\": \"password123\", \"liz\": \"pass123\"}"
   ]
  },
  {
   "cell_type": "code",
   "execution_count": 38,
   "metadata": {},
   "outputs": [
    {
     "name": "stdout",
     "output_type": "stream",
     "text": [
      "username: bob\n",
      "password: 123\n",
      "-------------------------------------------\n",
      "Welcome to the app, bob\n",
      "We have 3 texts to be analyzed.\n",
      "-------------------------------------------\n"
     ]
    }
   ],
   "source": [
    "login = input(\"Vlož Tvůj login:\")\n",
    "password = input(\"Vlož heslo:\")\n",
    "\n",
    "if login in uzivatel and password == uzivatel[login]:\n",
    "    print(f'username: {login}\\npassword: {password}')\n",
    "    print(\"-\" * 43)\n",
    "    print(f'Welcome to the app, {login}\\nWe have 3 texts to be analyzed.')\n",
    "    print(\"-\" * 43)\n",
    "else:\n",
    "    print(\"unregistered user, terminating the program..\")\n",
    "\n"
   ]
  },
  {
   "cell_type": "code",
   "execution_count": 56,
   "metadata": {},
   "outputs": [
    {
     "name": "stdout",
     "output_type": "stream",
     "text": [
      "-------------------------------------------\n",
      "There are words in the selected text: 74\n",
      "There are titlecase words: 4\n",
      "There are uppercase words: 0\n",
      "There are lowercase words: 68\n",
      "There are numeric strings: 2\n",
      "The sum of all the numbers is: 8298\n",
      "-------------------------------------------\n",
      "LEN | OCCURRENCES | NR.\n",
      "-------------------------------------------\n",
      "  1 | *               | 1\n",
      "  2 | ***********     | 11\n",
      "  3 | *************** | 15\n",
      "  4 | *********       | 9\n",
      "  5 | *******         | 7\n",
      "  6 | ******          | 6\n",
      "  7 | ************    | 12\n",
      "  8 | *******         | 7\n",
      "  9 | ***             | 3\n",
      " 10 | **              | 2\n",
      " 11 | *               | 1\n",
      "-------------------------------------------\n"
     ]
    }
   ],
   "source": [
    "TEXTS = [\n",
    "    '''Situated about 10 miles west of Kemmerer, Fossil Butte is a ruggedly impressive topographic feature that rises sharply some 1000 feet above Twin Creek Valley to an elevation of more than 7500 feet above sea level. The butte is located just north of US 30N and the Union Pacific Railroad, which traverse the valley.''',\n",
    "    '''At the base of Fossil Butte are the bright red, purple, yellow and gray beds of the Wasatch Formation. Eroded portions of these horizontal beds slope gradually upward from the valley floor and steepen abruptly. Overlying them and extending to the top of the butte are the much steeper buff-to-white beds of the Green River Formation, which are about 300 feet thick.''',\n",
    "    '''The monument contains 8198 acres and protects a portion of the largest deposit of freshwater fish fossils in the world. The richest fossil fish deposits are found in multiple limestone layers, which lie some 100 feet below the top of the butte. The fossils represent several varieties of perch, as well as other freshwater genera and herring similar to those in modern oceans. Other fish such as paddlefish, garpike and stingray are also present.'''\n",
    "]\n",
    "\n",
    "def analyze_text(text):\n",
    "    words = text.split()\n",
    "    word_count = len(words)\n",
    "    capitalized_words = sum(1 for word in words if word[0].isupper())\n",
    "    uppercase_words = sum(1 for word in words if word.isupper())\n",
    "    lowercase_words = sum(1 for word in words if word.islower())\n",
    "    numbers = [int(word) for word in words if word.isdigit()]\n",
    "    number_count = len(numbers)\n",
    "    number_sum = sum(numbers)\n",
    "    \n",
    "    word_lengths = [len(word) for word in words]\n",
    "    length_freq = {length: word_lengths.count(length) for length in set(word_lengths)}\n",
    "    \n",
    "    return {\n",
    "        \"There are words in the selected text\": word_count,\n",
    "        \"There are titlecase words\": capitalized_words,\n",
    "        \"There are uppercase words\": uppercase_words,\n",
    "        \"There are lowercase words\": lowercase_words,\n",
    "        \"There are numeric strings\": number_count,\n",
    "        \"The sum of all the numbers is\": number_sum,\n",
    "        \"Word length frequencies\": length_freq\n",
    "    }\n",
    "\n",
    "vyber = int(input(\"Enter a number between 1 and 3 to select:\"))\n",
    "print(\"-\" * 43)\n",
    "\n",
    "if vyber in range(1, 4):\n",
    "    vybrany_text = TEXTS[vyber - 1]\n",
    "    analysis = analyze_text(vybrany_text)\n",
    "    for key, value in analysis.items():\n",
    "        if key == \"Word length frequencies\":\n",
    "            print(\"-\" * 43)\n",
    "            print(\"LEN | OCCURRENCES | NR.\")\n",
    "            print(\"-\" * 43)\n",
    "            max_freq = max(value.values())\n",
    "            for length, freq in sorted(value.items()):\n",
    "                print(f'{length:3} | {\"*\" * freq:<{max_freq}} | {freq}')\n",
    "        else:\n",
    "            print(f'{key}: {value}')\n",
    "else:\n",
    "    print(\"Invalid choice, choose a number between 1 and 3\")\n",
    "\n",
    "print(\"-\" * 43)\n"
   ]
  }
 ],
 "metadata": {
  "kernelspec": {
   "display_name": "Python 3",
   "language": "python",
   "name": "python3"
  },
  "language_info": {
   "codemirror_mode": {
    "name": "ipython",
    "version": 3
   },
   "file_extension": ".py",
   "mimetype": "text/x-python",
   "name": "python",
   "nbconvert_exporter": "python",
   "pygments_lexer": "ipython3",
   "version": "3.12.4"
  }
 },
 "nbformat": 4,
 "nbformat_minor": 2
}
